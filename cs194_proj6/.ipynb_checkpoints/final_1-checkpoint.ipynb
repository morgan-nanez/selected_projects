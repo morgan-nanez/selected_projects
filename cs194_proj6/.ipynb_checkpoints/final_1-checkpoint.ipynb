{
 "cells": [
  {
   "cell_type": "code",
   "execution_count": 25,
   "metadata": {},
   "outputs": [],
   "source": [
    "# imports\n",
    "import numpy as np\n",
    "\n",
    "import os \n",
    "import torch\n",
    "import pandas as pd\n",
    "from skimage import io, transform, color\n",
    "import matplotlib.pyplot as plt\n",
    "from torch.utils.data import Dataset, DataLoader\n",
    "import torchvision\n",
    "from torchvision import transforms, utils\n",
    "from torchvision.utils import save_image\n",
    "\n",
    "from PIL import Image\n",
    "from torch.autograd import Variable\n",
    "\n",
    "from torch.utils.data.sampler import SubsetRandomSampler\n",
    "from torchsummary import summary\n",
    "\n",
    "import torch.optim as optim\n",
    "import torch.nn as nn\n",
    "import torch.nn.functional as F\n",
    "import cv2\n",
    "import torchvision.models as models"
   ]
  },
  {
   "cell_type": "code",
   "execution_count": null,
   "metadata": {},
   "outputs": [],
   "source": [
    "def gram(tensor):\n",
    "    \"\"\"\n",
    "        Constructs the Gramian matrix out of the tensor\n",
    "    \"\"\"\n",
    "    return torch.mm(tensor, tensor.t())\n",
    "\n",
    "\n",
    "def gram_loss(noise_img_gram, style_img_gram, N, M):\n",
    "    \"\"\"\n",
    "        Gramian loss: the SSE between Gramian matrices of a layer\n",
    "            arXiv:1508.06576v2 - equation (4)\n",
    "    \"\"\"\n",
    "    return torch.sum(torch.pow(noise_img_gram - style_img_gram, 2)).div((np.power(N*M*2, 2, dtype=np.float64)))\n",
    "\n",
    "\n",
    "def total_variation_loss(image):\n",
    "    \"\"\"\n",
    "        Variation loss makes the images smoother, defined over spacial dimensions\n",
    "    \"\"\"\n",
    "    loss = torch.mean(torch.abs(image[:, :, :, :-1] - image[:, :, :, 1:])) + \\\n",
    "        torch.mean(torch.abs(image[:, :, :-1, :] - image[:, :, 1:, :]))\n",
    "    return loss\n",
    "\n",
    "\n",
    "def content_loss(noise: torch.Tensor, image: torch.Tensor):\n",
    "    \"\"\"\n",
    "        Simple SSE loss over the generated image and the content image\n",
    "            arXiv:1508.06576v2 - equation (1)\n",
    "    \"\"\"\n",
    "    return 1/2. * torch.sum(torch.pow(noise - image, 2))"
   ]
  },
  {
   "cell_type": "code",
   "execution_count": null,
   "metadata": {},
   "outputs": [],
   "source": [
    "#gather data"
   ]
  },
  {
   "cell_type": "code",
   "execution_count": null,
   "metadata": {},
   "outputs": [],
   "source": [
    "#van-gogh from: https://www.kaggle.com/ipythonx/van-gogh-paintings\n",
    "image_names =  []\n",
    "path = \"training_data/van_gogh/\"\n",
    "for file in os.listdir(path):\n",
    "    if file.endswith(\".jpg\"):\n",
    "        image_names.append(file)\n",
    "image_names = np.asarray(image_names) "
   ]
  },
  {
   "cell_type": "code",
   "execution_count": null,
   "metadata": {},
   "outputs": [],
   "source": [
    "# create transforms\n",
    "transform = transforms.Compose([transforms.Resize((512,512)),\n",
    "            transforms.ToTensor(),\n",
    "            transforms.Normalize([0.485, 0.456, 0.406],  \n",
    "                                 [0.229, 0.224, 0.225])])"
   ]
  },
  {
   "cell_type": "code",
   "execution_count": null,
   "metadata": {},
   "outputs": [],
   "source": [
    "style_image = Image.open(path+image_names[0])"
   ]
  },
  {
   "cell_type": "code",
   "execution_count": null,
   "metadata": {},
   "outputs": [],
   "source": [
    "plt.imshow(style_image)"
   ]
  },
  {
   "cell_type": "code",
   "execution_count": null,
   "metadata": {},
   "outputs": [],
   "source": [
    "path = \"content_images/\"\n",
    "content_names = ['nutmeg.jpg']\n",
    "content_image = Image.open(path+content_names[0])"
   ]
  },
  {
   "cell_type": "code",
   "execution_count": null,
   "metadata": {},
   "outputs": [],
   "source": [
    "plt.imshow(content_image)"
   ]
  },
  {
   "cell_type": "code",
   "execution_count": null,
   "metadata": {},
   "outputs": [],
   "source": [
    "# Create the network"
   ]
  },
  {
   "cell_type": "code",
   "execution_count": null,
   "metadata": {},
   "outputs": [],
   "source": [
    "vgg = VGG()"
   ]
  },
  {
   "cell_type": "code",
   "execution_count": null,
   "metadata": {},
   "outputs": [],
   "source": [
    "    # get the tensor of the image\n",
    "    content_image = transform(content_image).unsqueeze(0)\n",
    "    style_image = transform(style_image).unsqueeze(0)"
   ]
  },
  {
   "cell_type": "code",
   "execution_count": null,
   "metadata": {},
   "outputs": [],
   "source": [
    "    # replace the MaxPool with the AvgPool layers\n",
    "    for name, child in vgg.vgg.named_children():\n",
    "        if isinstance(child, nn.MaxPool2d):\n",
    "            vgg.vgg[int(name)] = nn.AvgPool2d(kernel_size=2, stride=2)"
   ]
  },
  {
   "cell_type": "code",
   "execution_count": null,
   "metadata": {},
   "outputs": [],
   "source": [
    "    # lock the gradients\n",
    "    for param in vgg.parameters():\n",
    "        param.requires_grad = False"
   ]
  },
  {
   "cell_type": "code",
   "execution_count": null,
   "metadata": {},
   "outputs": [],
   "source": [
    "    content_activations = vgg.get_content_activations(content_image).detach()\n"
   ]
  },
  {
   "cell_type": "code",
   "execution_count": null,
   "metadata": {},
   "outputs": [],
   "source": [
    "    img_dim = 512\n",
    "    # unroll the content activations\n",
    "    content_activations = content_activations.view(512, -1)\n",
    "    \n",
    "    # get the style activations of the style image\n",
    "    style_activations = vgg.get_style_activations(style_image)\n",
    "    \n",
    "    # for every layer in the style activations\n",
    "    for i in range(len(style_activations)):\n",
    "\n",
    "        # unroll the activations and detach them from the graph\n",
    "        style_activations[i] = style_activations[i].squeeze().view(style_activations[i].shape[1], -1).detach()\n",
    "\n",
    "    # calculate the gram matrices of the style image\n",
    "    style_grams = [gram(style_activations[i]) for i in range(len(style_activations))]\n",
    "    \n",
    "    # generate the Gaussian noise\n",
    "    noise = torch.randn(1, 3, img_dim, img_dim, requires_grad=True)\n",
    "    \n",
    "    # define the adam optimizer\n",
    "    # pass the feature map pixels to the optimizer as parameters\n",
    "    adam = optim.Adam(params=[noise], lr=0.01, betas=(0.9, 0.999))"
   ]
  },
  {
   "cell_type": "code",
   "execution_count": null,
   "metadata": {},
   "outputs": [],
   "source": [
    "    num_iter = 1000\n",
    "# run the iteration\n",
    "    for iteration in range(num_iter):\n",
    "\n",
    "        # zero the gradient\n",
    "        adam.zero_grad()\n",
    "\n",
    "        # get the content activations of the Gaussian noise\n",
    "        noise_content_activations = vgg.get_content_activations(noise)\n",
    "\n",
    "        # unroll the feature maps of the noise\n",
    "        noise_content_activations = noise_content_activations.view(512, -1)\n",
    "\n",
    "        # calculate the content loss\n",
    "        content_loss_ = content_loss(noise_content_activations, content_activations)\n",
    "\n",
    "        # get the style activations of the noise image\n",
    "        noise_style_activations = vgg.get_style_activations(noise)\n",
    "\n",
    "        # for every layer\n",
    "        for i in range(len(noise_style_activations)):\n",
    "\n",
    "            # unroll the the noise style activations\n",
    "            noise_style_activations[i] = noise_style_activations[i].squeeze().view(noise_style_activations[i].shape[1], -1)\n",
    "\n",
    "        # calculate the noise gram matrices\n",
    "        noise_grams = [gram(noise_style_activations[i]) for i in range(len(noise_style_activations))]\n",
    "\n",
    "        # calculate the total weighted style loss\n",
    "        style_loss = 0\n",
    "        for i in range(len(style_activations)):\n",
    "            N, M = noise_style_activations[i].shape[0], noise_style_activations[i].shape[1]\n",
    "            style_loss += (gram_loss(noise_grams[i], style_grams[i], N, M) / 5.)\n",
    "\n",
    "            \n",
    "        # calculate the total variation loss\n",
    "        variation_loss = total_variation_loss(noise)\n",
    "\n",
    "        # weight the final losses and add them together\n",
    "        total_loss = content_weight * content_loss_ + style_weight * style_loss + variation_weight * variation_loss\n",
    "\n",
    "        if iteration % print_every == 0:\n",
    "            print(\"Iteration: {}, Content Loss: {:.3f}, Style Loss: {:.3f}, Var Loss: {:.3f}\".format(iteration, \n",
    "                                                                                                     content_weight * content_loss_.item(),\n",
    "                                                                                                     style_weight * style_loss.item(), \n",
    "                                                                                                     variation_weight * variation_loss.item()))\n",
    "\n",
    "        # create the folder for the generated images\n",
    "        if not os.path.exists('./generated/'):\n",
    "            os.mkdir('./generated/')\n",
    "        \n",
    "        # generate the image\n",
    "        if iteration % save_every == 0:\n",
    "            save_image(noise.cpu().detach(), fp='./generated/iter_{}.png'.format(iteration))\n",
    "\n",
    "        # backprop\n",
    "        total_loss.backward()\n",
    "        \n",
    "        # update parameters\n",
    "        adam.step()"
   ]
  },
  {
   "cell_type": "code",
   "execution_count": null,
   "metadata": {},
   "outputs": [],
   "source": []
  },
  {
   "cell_type": "code",
   "execution_count": null,
   "metadata": {},
   "outputs": [],
   "source": []
  },
  {
   "cell_type": "code",
   "execution_count": null,
   "metadata": {},
   "outputs": [],
   "source": []
  },
  {
   "cell_type": "code",
   "execution_count": null,
   "metadata": {},
   "outputs": [],
   "source": []
  },
  {
   "cell_type": "code",
   "execution_count": null,
   "metadata": {},
   "outputs": [],
   "source": []
  },
  {
   "cell_type": "code",
   "execution_count": null,
   "metadata": {},
   "outputs": [],
   "source": []
  },
  {
   "cell_type": "code",
   "execution_count": null,
   "metadata": {},
   "outputs": [],
   "source": []
  },
  {
   "cell_type": "code",
   "execution_count": null,
   "metadata": {},
   "outputs": [],
   "source": [
    "#load initial model\n",
    "vgg19 = models.vgg19(pretrained = True)"
   ]
  },
  {
   "cell_type": "code",
   "execution_count": null,
   "metadata": {},
   "outputs": [],
   "source": [
    "#save avgpool layer\n",
    "avgPool = vgg19.avgpool\n",
    "\n",
    "#only keep feature space\n",
    "vgg19 = vgg19.features"
   ]
  },
  {
   "cell_type": "code",
   "execution_count": null,
   "metadata": {},
   "outputs": [],
   "source": [
    "#start the netwrok\n",
    "vgg19.eval()"
   ]
  },
  {
   "cell_type": "code",
   "execution_count": null,
   "metadata": {},
   "outputs": [],
   "source": [
    "#change max pool layers to avg pool layers\n",
    "for i, child in vgg19.named_children():\n",
    "    if isinstance(child, nn.MaxPool2d):\n",
    "        vgg19[int(i)] = avgPool"
   ]
  },
  {
   "cell_type": "code",
   "execution_count": null,
   "metadata": {},
   "outputs": [],
   "source": [
    "# make it a stationary feature extractor\n",
    "for param in vgg19.parameters():\n",
    "    param.requires_grad  = False"
   ]
  },
  {
   "cell_type": "code",
   "execution_count": null,
   "metadata": {},
   "outputs": [],
   "source": [
    "def get_content_activations():\n",
    "    return vgg19[:22]\n",
    "\n",
    "def get_style_activations():\n",
    "    return [vgg19[:1]]+[vgg19[:6]]+[vgg19[:11]]+[vgg19[:20]]+[vgg19[:29]]"
   ]
  },
  {
   "cell_type": "code",
   "execution_count": null,
   "metadata": {},
   "outputs": [],
   "source": [
    "#want to keep only the outputs of the shown layers\n",
    "\n",
    "#extract content features (conv4_2)\n",
    "content_feature = vgg19[:22]\n",
    "\n",
    "#extract style features(conv1_1, conv2_1, conv3_1, conv4_1, conv5_1)\n",
    "style_features = [vgg19[:1]]+[vgg19[:6]]+[vgg19[:11]]+[vgg19[:20]]+[vgg19[:29]]\n",
    "\n"
   ]
  },
  {
   "cell_type": "code",
   "execution_count": null,
   "metadata": {},
   "outputs": [],
   "source": [
    "#extract content features (conv4_2)\n",
    "content_feature = vgg19[:23]\n",
    "\n",
    "#extract style features(conv1_1, conv2_1, conv3_1, conv4_1, conv5_1)\n",
    "style_features = [vgg19[:4]]+[vgg19[:7]]+[vgg19[:12]]+[vgg19[:21]]+[vgg19[:30]]"
   ]
  },
  {
   "cell_type": "code",
   "execution_count": null,
   "metadata": {},
   "outputs": [],
   "source": [
    "def gram_loss(noise_img_gram, style_img_gram, N, M):\n",
    "    \"\"\"\n",
    "        Gramian loss: the SSE between Gramian matrices of a layer\n",
    "            arXiv:1508.06576v2 - equation (4)\n",
    "    \"\"\"\n",
    "    return torch.sum(torch.pow(noise_img_gram - style_img_gram, 2)).div((np.power(N*M*2, 2, dtype=np.float64)))\n",
    "\n",
    "\n",
    "def total_variation_loss(image):\n",
    "    \"\"\"\n",
    "        Variation loss makes the images smoother, defined over spacial dimensions\n",
    "    \"\"\"\n",
    "    loss = torch.mean(torch.abs(image[:, :, :, :-1] - image[:, :, :, 1:])) + \\\n",
    "        torch.mean(torch.abs(image[:, :, :-1, :] - image[:, :, 1:, :]))\n",
    "    return loss\n",
    "\n",
    "\n",
    "def content_loss(noise: torch.Tensor, image: torch.Tensor):\n",
    "    \"\"\"\n",
    "        Simple SSE loss over the generated image and the content image\n",
    "            arXiv:1508.06576v2 - equation (1)\n",
    "    \"\"\"\n",
    "    return 1/2. * torch.sum(torch.pow(noise - image, 2))"
   ]
  },
  {
   "cell_type": "code",
   "execution_count": null,
   "metadata": {},
   "outputs": [],
   "source": [
    "#get activations\n",
    "\n",
    "#prep images\n",
    "content_image = transform(content_image).unsqueeze(0)\n",
    "style_image = transform(style_image).unsqueeze(0)\n",
    "\n",
    "#use detach to stop the gradient\n",
    "content_act =  content_feature(content_image).detach()\n",
    "\n",
    "# unroll the content activations\n",
    "content_act = content_act.view(512, -1)\n",
    "\n",
    "style_act = []\n",
    "for feature in style_features:\n",
    "    style_act.append(feature(style_image))"
   ]
  },
  {
   "cell_type": "code",
   "execution_count": null,
   "metadata": {},
   "outputs": [],
   "source": [
    "# Code adapted from https://www.javatpoint.com/pytorch-gram-matrix-for-style-transferring\n",
    "\n",
    "#Initializing gram_matrix function for our tensor image   \n",
    "def gram_matrix(tensor):  \n",
    "    _,d,h,w=tensor.size()  \n",
    "    \n",
    "    #Reshaping data into a two dimensional of array or two dimensional of tensor  \n",
    "    tensor=tensor.view(d,h*w) \n",
    "    \n",
    "    gram = torch.mm(tensor,tensor.t())  \n",
    "  \n",
    "    #Returning gram matrix   \n",
    "    return gram  "
   ]
  },
  {
   "cell_type": "code",
   "execution_count": null,
   "metadata": {},
   "outputs": [],
   "source": [
    "style_grams = [gram_matrix(style_act[i]) for i in range(len(style_act))]\n"
   ]
  },
  {
   "cell_type": "code",
   "execution_count": null,
   "metadata": {},
   "outputs": [],
   "source": [
    "# generate the Gaussian noise\n",
    "noise = torch.randn(1, 3, 512, 512, \n",
    "                    requires_grad=True)"
   ]
  },
  {
   "cell_type": "code",
   "execution_count": null,
   "metadata": {},
   "outputs": [],
   "source": [
    "#define the adam optimizer\n",
    "# pass the feature map pixels to the optimizer as parameters\n",
    "adam = optim.Adam(params=[noise], lr=0.01, betas=(0.9, 0.999))"
   ]
  },
  {
   "cell_type": "code",
   "execution_count": null,
   "metadata": {},
   "outputs": [],
   "source": [
    "style_weight = 10e6\n",
    "content_weight = 1\n",
    "variation_weight = 10e3\n",
    "print_every  = 10\n",
    "save_every = 10"
   ]
  },
  {
   "cell_type": "code",
   "execution_count": null,
   "metadata": {},
   "outputs": [],
   "source": [
    "from torchvision.utils import save_image"
   ]
  },
  {
   "cell_type": "code",
   "execution_count": null,
   "metadata": {},
   "outputs": [],
   "source": [
    "# run iterations\n",
    "num_iter = 1000\n",
    " # run the iteration\n",
    "for iteration in range(num_iter):\n",
    "\n",
    "        # zero the gradient\n",
    "        adam.zero_grad()\n",
    "\n",
    "        # get the content activations of the Gaussian noise\n",
    "        noise_content_activations = get_content_activations()(noise)\n",
    "\n",
    "        # unroll the feature maps of the noise\n",
    "        noise_content_activations = noise_content_activations.view(512, -1)\n",
    "\n",
    "        # calculate the content loss\n",
    "        content_loss_ = content_loss(noise_content_activations, content_act)\n",
    "\n",
    "        # get the style activations of the noise image\n",
    "        noise_style_act = get_style_activations()\n",
    "        noise_style_activations = []\n",
    "        for feature in noise_style_act:\n",
    "            noise_style_activations.append(feature(noise).detach())\n",
    "\n",
    "        # for every layer\n",
    "       # for i in range(len(noise_style_activations)):\n",
    "\n",
    "            # unroll the the noise style activations\n",
    "          #  noise_style_activations[i] = noise_style_activations[i].squeeze().view(noise_style_activations[i].shape[1], -1)\n",
    "\n",
    "        # calculate the noise gram matrices\n",
    "        noise_grams = [gram_matrix(noise_style_activations[i]) for i in range(len(noise_style_activations))]\n",
    "\n",
    "        # calculate the total weighted style loss\n",
    "        style_loss = 0\n",
    "        for i in range(len(style_act)):\n",
    "            N, M = noise_style_activations[i].shape[0], noise_style_activations[i].shape[1]\n",
    "            style_loss += (gram_loss(noise_grams[i], style_grams[i], N, M) / 5.)\n",
    "\n",
    "            \n",
    "        # calculate the total variation loss\n",
    "        variation_loss = total_variation_loss(noise)\n",
    "\n",
    "        # weight the final losses and add them together\n",
    "        total_loss = content_weight * content_loss_ + style_weight * style_loss + variation_weight * variation_loss\n",
    "\n",
    "        if iteration % print_every == 0:\n",
    "            print(\"Iteration: {}, Content Loss: {:.3f}, Style Loss: {:.3f}, Var Loss: {:.3f}\".format(iteration, \n",
    "                                                                                                     content_weight * content_loss_.item(),\n",
    "                                                                                                     style_weight * style_loss.item(), \n",
    "                                                                                                     variation_weight * variation_loss.item()))\n",
    "\n",
    "        # create the folder for the generated images\n",
    "        if not os.path.exists('./generated/'):\n",
    "            os.mkdir('./generated/')\n",
    "        \n",
    "        # generate the image\n",
    "        if iteration % save_every == 0:\n",
    "            save_image(noise.cpu().detach(), fp='./generated/iter_{}.png'.format(iteration))\n",
    "\n",
    "        # backprop\n",
    "        total_loss.backward()\n",
    "        \n",
    "        # update parameters\n",
    "        adam.step()"
   ]
  },
  {
   "cell_type": "code",
   "execution_count": 157,
   "metadata": {},
   "outputs": [],
   "source": [
    "class NSTVgg(nn.Module):\n",
    "    def __init__(self):\n",
    "        super(VGG, self).__init__()\n",
    "        \n",
    "        # load the vgg model's features\n",
    "        self.vgg = models.vgg19(pretrained=True).features\n",
    "    \n",
    "    def get_content_activations(self, x: torch.Tensor) -> torch.Tensor:\n",
    "        \"\"\"\n",
    "            Extracts the features for the content loss from the block4_conv2 of VGG19\n",
    "            Args:\n",
    "                x: torch.Tensor - input image we want to extract the features of\n",
    "            Returns:\n",
    "                features: torch.Tensor - the activation maps of the block4_conv2 layer\n",
    "        \"\"\"\n",
    "        features = self.vgg[:23](x)\n",
    "        return features\n",
    "    \n",
    "    def get_style_activations(self, x) -> torch.Tensor:\n",
    "        \"\"\"\n",
    "            Extracts the features for the style loss from the block1_conv1, \n",
    "                block2_conv1, block3_conv1, block4_conv1, block5_conv1 of VGG19\n",
    "            Args:\n",
    "                x: torch.Tensor - input image we want to extract the features of\n",
    "            Returns:\n",
    "                features: list - the list of activation maps of the block1_conv1, \n",
    "                    block2_conv1, block3_conv1, block4_conv1, block5_conv1 layers\n",
    "        \"\"\"\n",
    "        style_indices = [2,7, 12, 21, 30]\n",
    "        features = []\n",
    "        for i in style_indices:\n",
    "            style_feature_layers.append(vgg[:i])\n",
    "        return features \n",
    "    \n",
    "    def forward(self, x):\n",
    "        return self.vgg(x)"
   ]
  },
  {
   "cell_type": "code",
   "execution_count": 167,
   "metadata": {},
   "outputs": [],
   "source": [
    "class NSTVgg(nn.Module):\n",
    "    def __init__(self):\n",
    "        super(NSTVgg, self).__init__()\n",
    "        \n",
    "        # load the vgg model's features\n",
    "        self.vgg = models.vgg19(pretrained=True).features\n",
    "        \n",
    "        # turn  all max poolinglayers into avg pooling\n",
    "        #replace maxpooling layers with avgpooling layer\n",
    "        avgPool = nn.AvgPool2d(kernel_size=2, stride=2)\n",
    "\n",
    "        for i, child in self.vgg.named_children():\n",
    "            if isinstance(child, nn.MaxPool2d):\n",
    "                self.vgg[int(i)] = avgPool\n",
    "    \n",
    "    def get_content_layer(self):\n",
    "\n",
    "        features = self.vgg[:23]\n",
    "        return features\n",
    "    \n",
    "    def get_style_layers(self):\n",
    "        style_indices = [2,7, 12, 21, 30]\n",
    "        style_feature_layers = []\n",
    "        for i in style_indices:\n",
    "            style_feature_layers.append(vgg[:i])\n",
    "        return style_feature_layers\n",
    "    \n",
    "    def forward(self, x):\n",
    "        return self.vgg(x)"
   ]
  },
  {
   "cell_type": "code",
   "execution_count": null,
   "metadata": {},
   "outputs": [],
   "source": []
  },
  {
   "cell_type": "code",
   "execution_count": null,
   "metadata": {},
   "outputs": [],
   "source": []
  },
  {
   "cell_type": "code",
   "execution_count": null,
   "metadata": {},
   "outputs": [],
   "source": []
  },
  {
   "cell_type": "code",
   "execution_count": null,
   "metadata": {},
   "outputs": [],
   "source": []
  },
  {
   "cell_type": "code",
   "execution_count": null,
   "metadata": {},
   "outputs": [],
   "source": []
  },
  {
   "cell_type": "code",
   "execution_count": null,
   "metadata": {},
   "outputs": [],
   "source": []
  },
  {
   "cell_type": "code",
   "execution_count": null,
   "metadata": {},
   "outputs": [],
   "source": []
  },
  {
   "cell_type": "code",
   "execution_count": null,
   "metadata": {},
   "outputs": [],
   "source": []
  },
  {
   "cell_type": "code",
   "execution_count": null,
   "metadata": {},
   "outputs": [],
   "source": [
    "# want the output of the layer -> feature map (differently filtered versions of the input image)"
   ]
  },
  {
   "cell_type": "code",
   "execution_count": null,
   "metadata": {},
   "outputs": [],
   "source": [
    "# Higher layers in the network capture the high-level content\n",
    "# - > info about objectsand their arrangement (content)"
   ]
  },
  {
   "cell_type": "code",
   "execution_count": null,
   "metadata": {},
   "outputs": [],
   "source": [
    "noise.dtype"
   ]
  },
  {
   "cell_type": "code",
   "execution_count": null,
   "metadata": {},
   "outputs": [],
   "source": [
    "# Lower layers reproduce the exact pixel value (style)"
   ]
  },
  {
   "cell_type": "code",
   "execution_count": null,
   "metadata": {},
   "outputs": [],
   "source": [
    "#use a feature space originally designed to capture texture information"
   ]
  },
  {
   "cell_type": "code",
   "execution_count": null,
   "metadata": {},
   "outputs": [],
   "source": [
    "#alpha / beta =  10e-3 or 10e-4"
   ]
  },
  {
   "cell_type": "code",
   "execution_count": 58,
   "metadata": {},
   "outputs": [],
   "source": [
    "#load in content image\n",
    "content_path = \"content_images/\"\n",
    "content_names = ['neckarfront.jpg']\n",
    "content_image = Image.open(content_path+content_names[0])\n",
    "\n",
    "#load in style image\n",
    "style_path = \"style_images/\"\n",
    "style_names = ['starry_night.jpg']\n",
    "style_image = Image.open(style_path+style_names[0])"
   ]
  },
  {
   "cell_type": "code",
   "execution_count": 59,
   "metadata": {},
   "outputs": [],
   "source": [
    "#define and apply transforms\n",
    "transform = transforms.Compose([transforms.Resize((512,512)),\n",
    "            transforms.ToTensor(),\n",
    "            transforms.Normalize([0.485, 0.456, 0.406],  \n",
    "                                 [0.229, 0.224, 0.225])])\n",
    "#how to know normalize\n",
    "\n",
    "content_image = transform(content_image).unsqueeze(0) #unsqueeze to make it (1, 1, 512, 512)\n",
    "style_image = transform(style_image).unsqueeze(0)\n",
    "\n"
   ]
  },
  {
   "cell_type": "code",
   "execution_count": 168,
   "metadata": {},
   "outputs": [],
   "source": [
    "vgg = NSTVgg()"
   ]
  },
  {
   "cell_type": "code",
   "execution_count": 163,
   "metadata": {},
   "outputs": [
    {
     "data": {
      "text/plain": [
       "NSTVgg(\n",
       "  (vgg): Sequential(\n",
       "    (0): Conv2d(3, 64, kernel_size=(3, 3), stride=(1, 1), padding=(1, 1))\n",
       "    (1): ReLU(inplace=True)\n",
       "    (2): Conv2d(64, 64, kernel_size=(3, 3), stride=(1, 1), padding=(1, 1))\n",
       "    (3): ReLU(inplace=True)\n",
       "    (4): AvgPool2d(kernel_size=2, stride=2, padding=0)\n",
       "    (5): Conv2d(64, 128, kernel_size=(3, 3), stride=(1, 1), padding=(1, 1))\n",
       "    (6): ReLU(inplace=True)\n",
       "    (7): Conv2d(128, 128, kernel_size=(3, 3), stride=(1, 1), padding=(1, 1))\n",
       "    (8): ReLU(inplace=True)\n",
       "    (9): AvgPool2d(kernel_size=2, stride=2, padding=0)\n",
       "    (10): Conv2d(128, 256, kernel_size=(3, 3), stride=(1, 1), padding=(1, 1))\n",
       "    (11): ReLU(inplace=True)\n",
       "    (12): Conv2d(256, 256, kernel_size=(3, 3), stride=(1, 1), padding=(1, 1))\n",
       "    (13): ReLU(inplace=True)\n",
       "    (14): Conv2d(256, 256, kernel_size=(3, 3), stride=(1, 1), padding=(1, 1))\n",
       "    (15): ReLU(inplace=True)\n",
       "    (16): Conv2d(256, 256, kernel_size=(3, 3), stride=(1, 1), padding=(1, 1))\n",
       "    (17): ReLU(inplace=True)\n",
       "    (18): AvgPool2d(kernel_size=2, stride=2, padding=0)\n",
       "    (19): Conv2d(256, 512, kernel_size=(3, 3), stride=(1, 1), padding=(1, 1))\n",
       "    (20): ReLU(inplace=True)\n",
       "    (21): Conv2d(512, 512, kernel_size=(3, 3), stride=(1, 1), padding=(1, 1))\n",
       "    (22): ReLU(inplace=True)\n",
       "    (23): Conv2d(512, 512, kernel_size=(3, 3), stride=(1, 1), padding=(1, 1))\n",
       "    (24): ReLU(inplace=True)\n",
       "    (25): Conv2d(512, 512, kernel_size=(3, 3), stride=(1, 1), padding=(1, 1))\n",
       "    (26): ReLU(inplace=True)\n",
       "    (27): AvgPool2d(kernel_size=2, stride=2, padding=0)\n",
       "    (28): Conv2d(512, 512, kernel_size=(3, 3), stride=(1, 1), padding=(1, 1))\n",
       "    (29): ReLU(inplace=True)\n",
       "    (30): Conv2d(512, 512, kernel_size=(3, 3), stride=(1, 1), padding=(1, 1))\n",
       "    (31): ReLU(inplace=True)\n",
       "    (32): Conv2d(512, 512, kernel_size=(3, 3), stride=(1, 1), padding=(1, 1))\n",
       "    (33): ReLU(inplace=True)\n",
       "    (34): Conv2d(512, 512, kernel_size=(3, 3), stride=(1, 1), padding=(1, 1))\n",
       "    (35): ReLU(inplace=True)\n",
       "    (36): AvgPool2d(kernel_size=2, stride=2, padding=0)\n",
       "  )\n",
       ")"
      ]
     },
     "execution_count": 163,
     "metadata": {},
     "output_type": "execute_result"
    }
   ],
   "source": [
    "#make stationary"
   ]
  },
  {
   "cell_type": "code",
   "execution_count": 143,
   "metadata": {},
   "outputs": [
    {
     "name": "stdout",
     "output_type": "stream",
     "text": [
      "0 Conv2d(3, 64, kernel_size=(3, 3), stride=(1, 1), padding=(1, 1))\n",
      "1 ReLU(inplace=True)\n",
      "2 Conv2d(64, 64, kernel_size=(3, 3), stride=(1, 1), padding=(1, 1))\n",
      "3 ReLU(inplace=True)\n",
      "4 AvgPool2d(kernel_size=2, stride=2, padding=0)\n",
      "5 Conv2d(64, 128, kernel_size=(3, 3), stride=(1, 1), padding=(1, 1))\n",
      "6 ReLU(inplace=True)\n",
      "7 Conv2d(128, 128, kernel_size=(3, 3), stride=(1, 1), padding=(1, 1))\n",
      "8 ReLU(inplace=True)\n",
      "9 AvgPool2d(kernel_size=2, stride=2, padding=0)\n",
      "10 Conv2d(128, 256, kernel_size=(3, 3), stride=(1, 1), padding=(1, 1))\n",
      "11 ReLU(inplace=True)\n",
      "12 Conv2d(256, 256, kernel_size=(3, 3), stride=(1, 1), padding=(1, 1))\n",
      "13 ReLU(inplace=True)\n",
      "14 Conv2d(256, 256, kernel_size=(3, 3), stride=(1, 1), padding=(1, 1))\n",
      "15 ReLU(inplace=True)\n",
      "16 Conv2d(256, 256, kernel_size=(3, 3), stride=(1, 1), padding=(1, 1))\n",
      "17 ReLU(inplace=True)\n",
      "18 AvgPool2d(kernel_size=2, stride=2, padding=0)\n",
      "19 Conv2d(256, 512, kernel_size=(3, 3), stride=(1, 1), padding=(1, 1))\n",
      "20 ReLU(inplace=True)\n",
      "21 Conv2d(512, 512, kernel_size=(3, 3), stride=(1, 1), padding=(1, 1))\n",
      "22 ReLU(inplace=True)\n",
      "23 Conv2d(512, 512, kernel_size=(3, 3), stride=(1, 1), padding=(1, 1))\n",
      "24 ReLU(inplace=True)\n",
      "25 Conv2d(512, 512, kernel_size=(3, 3), stride=(1, 1), padding=(1, 1))\n",
      "26 ReLU(inplace=True)\n",
      "27 AvgPool2d(kernel_size=2, stride=2, padding=0)\n",
      "28 Conv2d(512, 512, kernel_size=(3, 3), stride=(1, 1), padding=(1, 1))\n",
      "29 ReLU(inplace=True)\n",
      "30 Conv2d(512, 512, kernel_size=(3, 3), stride=(1, 1), padding=(1, 1))\n",
      "31 ReLU(inplace=True)\n",
      "32 Conv2d(512, 512, kernel_size=(3, 3), stride=(1, 1), padding=(1, 1))\n",
      "33 ReLU(inplace=True)\n",
      "34 Conv2d(512, 512, kernel_size=(3, 3), stride=(1, 1), padding=(1, 1))\n",
      "35 ReLU(inplace=True)\n",
      "36 AvgPool2d(kernel_size=2, stride=2, padding=0)\n"
     ]
    }
   ],
   "source": [
    "for name,layer in vgg19._modules.items():\n",
    "        print(name, layer)"
   ]
  },
  {
   "cell_type": "code",
   "execution_count": 151,
   "metadata": {},
   "outputs": [],
   "source": [
    "#create white noise input\n",
    "mu, sigma = 0, 1 # mean and standard deviation\n",
    "s = np.random.normal(mu, sigma, size=(1, 3, 512, 512))\n",
    "white_noise = torch.FloatTensor(s)\n",
    "white_noise.requires_grad = True"
   ]
  },
  {
   "cell_type": "code",
   "execution_count": 61,
   "metadata": {},
   "outputs": [],
   "source": [
    "#load in pretrained model \n",
    "vgg19 = models.vgg19(pretrained = True)\n",
    "\n",
    "#only want feature space\n",
    "vgg19 = vgg19.features"
   ]
  },
  {
   "cell_type": "code",
   "execution_count": 62,
   "metadata": {},
   "outputs": [],
   "source": [
    "#replace maxpooling layers with avgpooling layer\n",
    "avgPool = nn.AvgPool2d(kernel_size=2, stride=2)\n",
    "\n",
    "for i, child in vgg19.named_children():\n",
    "    if isinstance(child, nn.MaxPool2d):\n",
    "        vgg19[int(i)] = avgPool"
   ]
  },
  {
   "cell_type": "code",
   "execution_count": 169,
   "metadata": {},
   "outputs": [],
   "source": [
    "#lock gradient because its a stationary feature extractor\n",
    "for param in vgg.parameters():\n",
    "    param.requires_grad = False"
   ]
  },
  {
   "cell_type": "code",
   "execution_count": 64,
   "metadata": {},
   "outputs": [],
   "source": [
    "#want the output for each feature layer (output of the relu)\n",
    "\n",
    "\n",
    "#create style reconstruction layers [ ‘conv1 1’, ‘conv2 1’, ‘conv3 1’, ‘conv4 1’ and ‘conv5 1’ ]\n",
    "def get_style_feature_layers(vgg):\n",
    "    style_indices = [2,7, 12, 21, 30]\n",
    "    style_feature_layers = []\n",
    "    for i in style_indices:\n",
    "        style_feature_layers.append(vgg[:i])\n",
    "    return style_feature_layers\n",
    "\n",
    "    #create content reconstruction layers [ ‘conv4 2’]\n",
    "def get_content_feature_layer(vgg):\n",
    "    content_index = 23\n",
    "    content_feature_layer = vgg[:content_index]\n",
    "    return content_feature_layer\n",
    "    \n",
    "    \n"
   ]
  },
  {
   "cell_type": "code",
   "execution_count": 170,
   "metadata": {},
   "outputs": [
    {
     "ename": "TypeError",
     "evalue": "get_style_layers() missing 1 required positional argument: 'x'",
     "output_type": "error",
     "traceback": [
      "\u001b[0;31m---------------------------------------------------------------------------\u001b[0m",
      "\u001b[0;31mTypeError\u001b[0m                                 Traceback (most recent call last)",
      "\u001b[0;32m<ipython-input-170-56a1635b7ea5>\u001b[0m in \u001b[0;36m<module>\u001b[0;34m\u001b[0m\n\u001b[1;32m      3\u001b[0m \u001b[0;34m\u001b[0m\u001b[0m\n\u001b[1;32m      4\u001b[0m \u001b[0;34m\u001b[0m\u001b[0m\n\u001b[0;32m----> 5\u001b[0;31m \u001b[0mstyle_loss_images_layers\u001b[0m \u001b[0;34m=\u001b[0m \u001b[0mvgg\u001b[0m\u001b[0;34m.\u001b[0m\u001b[0mget_style_layers\u001b[0m\u001b[0;34m(\u001b[0m\u001b[0;34m)\u001b[0m\u001b[0;34m\u001b[0m\u001b[0m\n\u001b[0m\u001b[1;32m      6\u001b[0m \u001b[0mstyle_loss_features\u001b[0m \u001b[0;34m=\u001b[0m \u001b[0;34m[\u001b[0m\u001b[0mlayer\u001b[0m\u001b[0;34m(\u001b[0m\u001b[0mstyle_image\u001b[0m\u001b[0;34m)\u001b[0m\u001b[0;34m.\u001b[0m\u001b[0mdetach\u001b[0m\u001b[0;34m(\u001b[0m\u001b[0;34m)\u001b[0m \u001b[0;32mfor\u001b[0m \u001b[0mlayer\u001b[0m \u001b[0;32min\u001b[0m \u001b[0mstyle_loss_images_layers\u001b[0m\u001b[0;34m]\u001b[0m\u001b[0;34m\u001b[0m\u001b[0m\n",
      "\u001b[0;31mTypeError\u001b[0m: get_style_layers() missing 1 required positional argument: 'x'"
     ]
    }
   ],
   "source": [
    "#get content and style images to compare  for loss\n",
    "content_loss_feature = vgg.get_content_layer()(content_image)\n",
    "            \n",
    "            \n",
    "style_loss_images_layers = vgg.get_style_layers()\n",
    "style_loss_features = [layer(style_image).detach() for layer in style_loss_images_layers]\n"
   ]
  },
  {
   "cell_type": "code",
   "execution_count": 136,
   "metadata": {},
   "outputs": [],
   "source": [
    "#create custom content and style losses\n",
    "\n",
    "# Code adapted from https://www.javatpoint.com/pytorch-gram-matrix-for-style-transferring\n",
    "#Initializing gram_matrix function for our tensor image   \n",
    "def gramMatrix(tensor):  \n",
    "    _,d,h,w=tensor.size()  \n",
    "    \n",
    "    #Reshaping data into a two dimensional of array or two dimensional of tensor  \n",
    "    tensor=tensor.view(d,h*w) \n",
    "    \n",
    "    gram = torch.mm(tensor,tensor.t())  \n",
    "  \n",
    "    #Returning gram matrix   \n",
    "    return gram  \n",
    "\n",
    "\n",
    "def contentLoss(noise):\n",
    "    #use squared-error loss\n",
    "    loss = F.mse_loss(noise, content_loss_feature) *  content_weight\n",
    "\n",
    "    return loss\n",
    "\n",
    "gram_style_targets = [gramMatrix(style_feat) for style_feat in style_loss_features]\n",
    "\n",
    "def styleLoss(noise_layers):\n",
    "    total_style_loss = 0\n",
    "        \n",
    "    # get contribution of each layer to the total loss\n",
    "    for i in range(len(noise_layers)):\n",
    "        gram_noise = gramMatrix(noise_layers[i])\n",
    "        loss = F.mse_loss(gram_noise, gram_style_targets[i])\n",
    "        total_style_loss += loss * (1/5)\n",
    "        \n",
    "    return torch.sum(total_style_loss) * style_weight\n",
    "    \n",
    "    \n",
    "    \n",
    "# Code adapted from https://www.javatpoint.com/pytorch-gram-matrix-for-style-transferring\n"
   ]
  },
  {
   "cell_type": "code",
   "execution_count": 133,
   "metadata": {},
   "outputs": [],
   "source": [
    "class ContentLoss(torch.autograd.Function):\n",
    "    def __init__(self, target,):\n",
    "        super(ContentLoss, self).__init__()\n",
    "        self.target = target.detach()\n",
    "\n",
    "    #inout = noise\n",
    "    def forward(self, input):\n",
    "        self.loss = F.mse_loss(input, self.target)\n",
    "        return input\n",
    "    \n",
    "#have to run this one EACH layer\n",
    "class StyleLoss(torch.autograd.Function):\n",
    "    def __init__(self, target_features):\n",
    "        super(StyleLoss, self).__init__()\n",
    "        \n",
    "        self.target = target_features\n",
    "\n",
    "    #input = noise\n",
    "    def forward(self, input):\n",
    "        print(len(input))\n",
    "\n",
    "        total_style_loss = 0\n",
    "        \n",
    "        # get contribution of each layer to the total loss\n",
    "        for i in range(len(input)):\n",
    "            \n",
    "            \n",
    "            gram_noise = gramMatrix(input[i])\n",
    "\n",
    "            curr_loss = F.mse_loss(gram_noise, self.target[i])\n",
    "\n",
    "            total_style_loss += curr_loss * (1/5)\n",
    "\n",
    "        self.loss =total_style_loss\n",
    "        return input\n",
    "    "
   ]
  },
  {
   "cell_type": "code",
   "execution_count": 87,
   "metadata": {},
   "outputs": [
    {
     "data": {
      "text/plain": [
       "torch.Size([1, 512, 64, 64])"
      ]
     },
     "execution_count": 87,
     "metadata": {},
     "output_type": "execute_result"
    }
   ],
   "source": [
    "content_loss_feature.shape"
   ]
  },
  {
   "cell_type": "code",
   "execution_count": 90,
   "metadata": {},
   "outputs": [
    {
     "data": {
      "text/plain": [
       "torch.Size([1, 512, 64, 64])"
      ]
     },
     "execution_count": 90,
     "metadata": {},
     "output_type": "execute_result"
    }
   ],
   "source": [
    "        content_layer = get_content_feature_layer(vgg19)\n",
    "        content_feature = content_layer(white_noise).detach()\n",
    "        content_feature.shape"
   ]
  },
  {
   "cell_type": "code",
   "execution_count": 135,
   "metadata": {},
   "outputs": [
    {
     "ename": "RuntimeError",
     "evalue": "Legacy autograd function with non-static forward method is deprecated. Please use new-style autograd function with static forward method. (Example: https://pytorch.org/docs/stable/autograd.html#torch.autograd.Function)",
     "output_type": "error",
     "traceback": [
      "\u001b[0;31m---------------------------------------------------------------------------\u001b[0m",
      "\u001b[0;31mRuntimeError\u001b[0m                              Traceback (most recent call last)",
      "\u001b[0;32m<ipython-input-135-635c902f776c>\u001b[0m in \u001b[0;36m<module>\u001b[0;34m\u001b[0m\n\u001b[0;32m----> 1\u001b[0;31m \u001b[0mloss_content\u001b[0m\u001b[0;34m(\u001b[0m\u001b[0mcontent_loss_feature\u001b[0m\u001b[0;34m)\u001b[0m\u001b[0;34m\u001b[0m\u001b[0m\n\u001b[0m",
      "\u001b[0;32m/Library/Frameworks/Python.framework/Versions/3.7/lib/python3.7/site-packages/torch/autograd/function.py\u001b[0m in \u001b[0;36m__call__\u001b[0;34m(self, *args, **kwargs)\u001b[0m\n\u001b[1;32m    147\u001b[0m     \u001b[0;32mdef\u001b[0m \u001b[0m__call__\u001b[0m\u001b[0;34m(\u001b[0m\u001b[0mself\u001b[0m\u001b[0;34m,\u001b[0m \u001b[0;34m*\u001b[0m\u001b[0margs\u001b[0m\u001b[0;34m,\u001b[0m \u001b[0;34m**\u001b[0m\u001b[0mkwargs\u001b[0m\u001b[0;34m)\u001b[0m\u001b[0;34m:\u001b[0m\u001b[0;34m\u001b[0m\u001b[0m\n\u001b[1;32m    148\u001b[0m         raise RuntimeError(\n\u001b[0;32m--> 149\u001b[0;31m             \u001b[0;34m\"Legacy autograd function with non-static forward method is deprecated. \"\u001b[0m\u001b[0;34m\u001b[0m\u001b[0m\n\u001b[0m\u001b[1;32m    150\u001b[0m             \u001b[0;34m\"Please use new-style autograd function with static forward method. \"\u001b[0m\u001b[0;34m\u001b[0m\u001b[0m\n\u001b[1;32m    151\u001b[0m             \"(Example: https://pytorch.org/docs/stable/autograd.html#torch.autograd.Function)\")\n",
      "\u001b[0;31mRuntimeError\u001b[0m: Legacy autograd function with non-static forward method is deprecated. Please use new-style autograd function with static forward method. (Example: https://pytorch.org/docs/stable/autograd.html#torch.autograd.Function)"
     ]
    }
   ],
   "source": [
    "loss_content(content_loss_feature)"
   ]
  },
  {
   "cell_type": "code",
   "execution_count": 119,
   "metadata": {},
   "outputs": [
    {
     "data": {
      "text/plain": [
       "tensor(2.8504e+09)"
      ]
     },
     "execution_count": 119,
     "metadata": {},
     "output_type": "execute_result"
    }
   ],
   "source": [
    "loss_styles.loss"
   ]
  },
  {
   "cell_type": "code",
   "execution_count": 104,
   "metadata": {},
   "outputs": [],
   "source": [
    "        #get current style layers and apply them\n",
    "        style_layers = get_style_feature_layers(vgg19)\n",
    "        style_features = [layer(white_noise).detach() for layer in style_layers]"
   ]
  },
  {
   "cell_type": "code",
   "execution_count": 134,
   "metadata": {},
   "outputs": [],
   "source": [
    "#set  target for eat  loss\n",
    "loss_content = ContentLoss(content_loss_feature)\n",
    "loss_styles = StyleLoss(gram_style_targets)"
   ]
  },
  {
   "cell_type": "code",
   "execution_count": 67,
   "metadata": {},
   "outputs": [],
   "source": [
    "#constants\n",
    "#want alpha/beta =  q0e-3 or 10e-4\n",
    "style_weight = 10e3 #beta  [10e3 or 10e4]\n",
    "content_weight = 1 #alpha\n",
    "num_iter = 1000\n",
    "\n",
    "#variation_weight = 10e3\n",
    "#print_every  = 10\n",
    "#save_every = 10"
   ]
  },
  {
   "cell_type": "code",
   "execution_count": 68,
   "metadata": {},
   "outputs": [
    {
     "data": {
      "text/plain": [
       "Sequential(\n",
       "  (0): Conv2d(3, 64, kernel_size=(3, 3), stride=(1, 1), padding=(1, 1))\n",
       "  (1): ReLU(inplace=True)\n",
       "  (2): Conv2d(64, 64, kernel_size=(3, 3), stride=(1, 1), padding=(1, 1))\n",
       "  (3): ReLU(inplace=True)\n",
       "  (4): AvgPool2d(kernel_size=2, stride=2, padding=0)\n",
       "  (5): Conv2d(64, 128, kernel_size=(3, 3), stride=(1, 1), padding=(1, 1))\n",
       "  (6): ReLU(inplace=True)\n",
       "  (7): Conv2d(128, 128, kernel_size=(3, 3), stride=(1, 1), padding=(1, 1))\n",
       "  (8): ReLU(inplace=True)\n",
       "  (9): AvgPool2d(kernel_size=2, stride=2, padding=0)\n",
       "  (10): Conv2d(128, 256, kernel_size=(3, 3), stride=(1, 1), padding=(1, 1))\n",
       "  (11): ReLU(inplace=True)\n",
       "  (12): Conv2d(256, 256, kernel_size=(3, 3), stride=(1, 1), padding=(1, 1))\n",
       "  (13): ReLU(inplace=True)\n",
       "  (14): Conv2d(256, 256, kernel_size=(3, 3), stride=(1, 1), padding=(1, 1))\n",
       "  (15): ReLU(inplace=True)\n",
       "  (16): Conv2d(256, 256, kernel_size=(3, 3), stride=(1, 1), padding=(1, 1))\n",
       "  (17): ReLU(inplace=True)\n",
       "  (18): AvgPool2d(kernel_size=2, stride=2, padding=0)\n",
       "  (19): Conv2d(256, 512, kernel_size=(3, 3), stride=(1, 1), padding=(1, 1))\n",
       "  (20): ReLU(inplace=True)\n",
       "  (21): Conv2d(512, 512, kernel_size=(3, 3), stride=(1, 1), padding=(1, 1))\n",
       "  (22): ReLU(inplace=True)\n",
       "  (23): Conv2d(512, 512, kernel_size=(3, 3), stride=(1, 1), padding=(1, 1))\n",
       "  (24): ReLU(inplace=True)\n",
       "  (25): Conv2d(512, 512, kernel_size=(3, 3), stride=(1, 1), padding=(1, 1))\n",
       "  (26): ReLU(inplace=True)\n",
       "  (27): AvgPool2d(kernel_size=2, stride=2, padding=0)\n",
       "  (28): Conv2d(512, 512, kernel_size=(3, 3), stride=(1, 1), padding=(1, 1))\n",
       "  (29): ReLU(inplace=True)\n",
       "  (30): Conv2d(512, 512, kernel_size=(3, 3), stride=(1, 1), padding=(1, 1))\n",
       "  (31): ReLU(inplace=True)\n",
       "  (32): Conv2d(512, 512, kernel_size=(3, 3), stride=(1, 1), padding=(1, 1))\n",
       "  (33): ReLU(inplace=True)\n",
       "  (34): Conv2d(512, 512, kernel_size=(3, 3), stride=(1, 1), padding=(1, 1))\n",
       "  (35): ReLU(inplace=True)\n",
       "  (36): AvgPool2d(kernel_size=2, stride=2, padding=0)\n",
       ")"
      ]
     },
     "execution_count": 68,
     "metadata": {},
     "output_type": "execute_result"
    }
   ],
   "source": [
    "vgg19.eval()"
   ]
  },
  {
   "cell_type": "code",
   "execution_count": 156,
   "metadata": {},
   "outputs": [
    {
     "data": {
      "text/plain": [
       "Sequential(\n",
       "  (0): Conv2d(3, 64, kernel_size=(3, 3), stride=(1, 1), padding=(1, 1))\n",
       "  (1): ReLU(inplace=True)\n",
       "  (2): Conv2d(64, 64, kernel_size=(3, 3), stride=(1, 1), padding=(1, 1))\n",
       "  (3): ReLU(inplace=True)\n",
       "  (4): AvgPool2d(kernel_size=2, stride=2, padding=0)\n",
       "  (5): Conv2d(64, 128, kernel_size=(3, 3), stride=(1, 1), padding=(1, 1))\n",
       "  (6): ReLU(inplace=True)\n",
       "  (7): Conv2d(128, 128, kernel_size=(3, 3), stride=(1, 1), padding=(1, 1))\n",
       "  (8): ReLU(inplace=True)\n",
       "  (9): AvgPool2d(kernel_size=2, stride=2, padding=0)\n",
       "  (10): Conv2d(128, 256, kernel_size=(3, 3), stride=(1, 1), padding=(1, 1))\n",
       "  (11): ReLU(inplace=True)\n",
       "  (12): Conv2d(256, 256, kernel_size=(3, 3), stride=(1, 1), padding=(1, 1))\n",
       "  (13): ReLU(inplace=True)\n",
       "  (14): Conv2d(256, 256, kernel_size=(3, 3), stride=(1, 1), padding=(1, 1))\n",
       "  (15): ReLU(inplace=True)\n",
       "  (16): Conv2d(256, 256, kernel_size=(3, 3), stride=(1, 1), padding=(1, 1))\n",
       "  (17): ReLU(inplace=True)\n",
       "  (18): AvgPool2d(kernel_size=2, stride=2, padding=0)\n",
       "  (19): Conv2d(256, 512, kernel_size=(3, 3), stride=(1, 1), padding=(1, 1))\n",
       "  (20): ReLU(inplace=True)\n",
       "  (21): Conv2d(512, 512, kernel_size=(3, 3), stride=(1, 1), padding=(1, 1))\n",
       "  (22): ReLU(inplace=True)\n",
       "  (23): Conv2d(512, 512, kernel_size=(3, 3), stride=(1, 1), padding=(1, 1))\n",
       "  (24): ReLU(inplace=True)\n",
       "  (25): Conv2d(512, 512, kernel_size=(3, 3), stride=(1, 1), padding=(1, 1))\n",
       "  (26): ReLU(inplace=True)\n",
       "  (27): AvgPool2d(kernel_size=2, stride=2, padding=0)\n",
       "  (28): Conv2d(512, 512, kernel_size=(3, 3), stride=(1, 1), padding=(1, 1))\n",
       "  (29): ReLU(inplace=True)\n",
       "  (30): Conv2d(512, 512, kernel_size=(3, 3), stride=(1, 1), padding=(1, 1))\n",
       "  (31): ReLU(inplace=True)\n",
       "  (32): Conv2d(512, 512, kernel_size=(3, 3), stride=(1, 1), padding=(1, 1))\n",
       "  (33): ReLU(inplace=True)\n",
       "  (34): Conv2d(512, 512, kernel_size=(3, 3), stride=(1, 1), padding=(1, 1))\n",
       "  (35): ReLU(inplace=True)\n",
       "  (36): AvgPool2d(kernel_size=2, stride=2, padding=0)\n",
       ")"
      ]
     },
     "execution_count": 156,
     "metadata": {},
     "output_type": "execute_result"
    }
   ],
   "source": [
    "#add losses to model\n",
    "vgg19"
   ]
  },
  {
   "cell_type": "code",
   "execution_count": 128,
   "metadata": {},
   "outputs": [],
   "source": [
    "#define the optimizer (from piazza)\n",
    "optimizer = optim.LBFGS([white_noise.requires_grad_()])"
   ]
  },
  {
   "cell_type": "code",
   "execution_count": 140,
   "metadata": {},
   "outputs": [
    {
     "name": "stdout",
     "output_type": "stream",
     "text": [
      "tensor(2.8504e+13, requires_grad=True)\n",
      "Iteration: 0, Content Loss: 0.658, Style Loss: 28504213159936.000\n",
      "tensor(2.8504e+13, requires_grad=True)\n",
      "Iteration: 1, Content Loss: 0.658, Style Loss: 28504213159936.000\n"
     ]
    },
    {
     "ename": "KeyboardInterrupt",
     "evalue": "",
     "output_type": "error",
     "traceback": [
      "\u001b[0;31m---------------------------------------------------------------------------\u001b[0m",
      "\u001b[0;31mKeyboardInterrupt\u001b[0m                         Traceback (most recent call last)",
      "\u001b[0;32m<ipython-input-140-83ec8b36e162>\u001b[0m in \u001b[0;36m<module>\u001b[0;34m\u001b[0m\n\u001b[1;32m     39\u001b[0m         \u001b[0;32mreturn\u001b[0m \u001b[0mloss\u001b[0m\u001b[0;34m\u001b[0m\u001b[0m\n\u001b[1;32m     40\u001b[0m \u001b[0;34m\u001b[0m\u001b[0m\n\u001b[0;32m---> 41\u001b[0;31m     \u001b[0moptimizer\u001b[0m\u001b[0;34m.\u001b[0m\u001b[0mstep\u001b[0m\u001b[0;34m(\u001b[0m\u001b[0mclosure\u001b[0m\u001b[0;34m)\u001b[0m\u001b[0;34m\u001b[0m\u001b[0m\n\u001b[0m\u001b[1;32m     42\u001b[0m \u001b[0;34m\u001b[0m\u001b[0m\n\u001b[1;32m     43\u001b[0m     \u001b[0;31m# save intermediate  image\u001b[0m\u001b[0;34m\u001b[0m\u001b[0;34m\u001b[0m\u001b[0m\n",
      "\u001b[0;32m/Library/Frameworks/Python.framework/Versions/3.7/lib/python3.7/site-packages/torch/autograd/grad_mode.py\u001b[0m in \u001b[0;36mdecorate_context\u001b[0;34m(*args, **kwargs)\u001b[0m\n\u001b[1;32m     13\u001b[0m         \u001b[0;32mdef\u001b[0m \u001b[0mdecorate_context\u001b[0m\u001b[0;34m(\u001b[0m\u001b[0;34m*\u001b[0m\u001b[0margs\u001b[0m\u001b[0;34m,\u001b[0m \u001b[0;34m**\u001b[0m\u001b[0mkwargs\u001b[0m\u001b[0;34m)\u001b[0m\u001b[0;34m:\u001b[0m\u001b[0;34m\u001b[0m\u001b[0m\n\u001b[1;32m     14\u001b[0m             \u001b[0;32mwith\u001b[0m \u001b[0mself\u001b[0m\u001b[0;34m:\u001b[0m\u001b[0;34m\u001b[0m\u001b[0m\n\u001b[0;32m---> 15\u001b[0;31m                 \u001b[0;32mreturn\u001b[0m \u001b[0mfunc\u001b[0m\u001b[0;34m(\u001b[0m\u001b[0;34m*\u001b[0m\u001b[0margs\u001b[0m\u001b[0;34m,\u001b[0m \u001b[0;34m**\u001b[0m\u001b[0mkwargs\u001b[0m\u001b[0;34m)\u001b[0m\u001b[0;34m\u001b[0m\u001b[0m\n\u001b[0m\u001b[1;32m     16\u001b[0m         \u001b[0;32mreturn\u001b[0m \u001b[0mdecorate_context\u001b[0m\u001b[0;34m\u001b[0m\u001b[0m\n\u001b[1;32m     17\u001b[0m \u001b[0;34m\u001b[0m\u001b[0m\n",
      "\u001b[0;32m/Library/Frameworks/Python.framework/Versions/3.7/lib/python3.7/site-packages/torch/optim/lbfgs.py\u001b[0m in \u001b[0;36mstep\u001b[0;34m(self, closure)\u001b[0m\n\u001b[1;32m    309\u001b[0m \u001b[0;34m\u001b[0m\u001b[0m\n\u001b[1;32m    310\u001b[0m         \u001b[0;31m# evaluate initial f(x) and df/dx\u001b[0m\u001b[0;34m\u001b[0m\u001b[0;34m\u001b[0m\u001b[0m\n\u001b[0;32m--> 311\u001b[0;31m         \u001b[0morig_loss\u001b[0m \u001b[0;34m=\u001b[0m \u001b[0mclosure\u001b[0m\u001b[0;34m(\u001b[0m\u001b[0;34m)\u001b[0m\u001b[0;34m\u001b[0m\u001b[0m\n\u001b[0m\u001b[1;32m    312\u001b[0m         \u001b[0mloss\u001b[0m \u001b[0;34m=\u001b[0m \u001b[0mfloat\u001b[0m\u001b[0;34m(\u001b[0m\u001b[0morig_loss\u001b[0m\u001b[0;34m)\u001b[0m\u001b[0;34m\u001b[0m\u001b[0m\n\u001b[1;32m    313\u001b[0m         \u001b[0mcurrent_evals\u001b[0m \u001b[0;34m=\u001b[0m \u001b[0;36m1\u001b[0m\u001b[0;34m\u001b[0m\u001b[0m\n",
      "\u001b[0;32m/Library/Frameworks/Python.framework/Versions/3.7/lib/python3.7/site-packages/torch/autograd/grad_mode.py\u001b[0m in \u001b[0;36mdecorate_context\u001b[0;34m(*args, **kwargs)\u001b[0m\n\u001b[1;32m     13\u001b[0m         \u001b[0;32mdef\u001b[0m \u001b[0mdecorate_context\u001b[0m\u001b[0;34m(\u001b[0m\u001b[0;34m*\u001b[0m\u001b[0margs\u001b[0m\u001b[0;34m,\u001b[0m \u001b[0;34m**\u001b[0m\u001b[0mkwargs\u001b[0m\u001b[0;34m)\u001b[0m\u001b[0;34m:\u001b[0m\u001b[0;34m\u001b[0m\u001b[0m\n\u001b[1;32m     14\u001b[0m             \u001b[0;32mwith\u001b[0m \u001b[0mself\u001b[0m\u001b[0;34m:\u001b[0m\u001b[0;34m\u001b[0m\u001b[0m\n\u001b[0;32m---> 15\u001b[0;31m                 \u001b[0;32mreturn\u001b[0m \u001b[0mfunc\u001b[0m\u001b[0;34m(\u001b[0m\u001b[0;34m*\u001b[0m\u001b[0margs\u001b[0m\u001b[0;34m,\u001b[0m \u001b[0;34m**\u001b[0m\u001b[0mkwargs\u001b[0m\u001b[0;34m)\u001b[0m\u001b[0;34m\u001b[0m\u001b[0m\n\u001b[0m\u001b[1;32m     16\u001b[0m         \u001b[0;32mreturn\u001b[0m \u001b[0mdecorate_context\u001b[0m\u001b[0;34m\u001b[0m\u001b[0m\n\u001b[1;32m     17\u001b[0m \u001b[0;34m\u001b[0m\u001b[0m\n",
      "\u001b[0;32m<ipython-input-140-83ec8b36e162>\u001b[0m in \u001b[0;36mclosure\u001b[0;34m()\u001b[0m\n\u001b[1;32m     19\u001b[0m         \u001b[0;31m#get current style layers and apply them\u001b[0m\u001b[0;34m\u001b[0m\u001b[0;34m\u001b[0m\u001b[0m\n\u001b[1;32m     20\u001b[0m         \u001b[0mstyle_layers\u001b[0m \u001b[0;34m=\u001b[0m \u001b[0mget_style_feature_layers\u001b[0m\u001b[0;34m(\u001b[0m\u001b[0mvgg19\u001b[0m\u001b[0;34m)\u001b[0m\u001b[0;34m\u001b[0m\u001b[0m\n\u001b[0;32m---> 21\u001b[0;31m         \u001b[0mstyle_features\u001b[0m \u001b[0;34m=\u001b[0m \u001b[0;34m[\u001b[0m\u001b[0mlayer\u001b[0m\u001b[0;34m(\u001b[0m\u001b[0mwhite_noise\u001b[0m\u001b[0;34m)\u001b[0m\u001b[0;34m.\u001b[0m\u001b[0mdetach\u001b[0m\u001b[0;34m(\u001b[0m\u001b[0;34m)\u001b[0m \u001b[0;32mfor\u001b[0m \u001b[0mlayer\u001b[0m \u001b[0;32min\u001b[0m \u001b[0mstyle_layers\u001b[0m\u001b[0;34m]\u001b[0m\u001b[0;34m\u001b[0m\u001b[0m\n\u001b[0m\u001b[1;32m     22\u001b[0m \u001b[0;34m\u001b[0m\u001b[0m\n\u001b[1;32m     23\u001b[0m         \u001b[0;31m#get style loss\u001b[0m\u001b[0;34m\u001b[0m\u001b[0;34m\u001b[0m\u001b[0m\n",
      "\u001b[0;32m<ipython-input-140-83ec8b36e162>\u001b[0m in \u001b[0;36m<listcomp>\u001b[0;34m(.0)\u001b[0m\n\u001b[1;32m     19\u001b[0m         \u001b[0;31m#get current style layers and apply them\u001b[0m\u001b[0;34m\u001b[0m\u001b[0;34m\u001b[0m\u001b[0m\n\u001b[1;32m     20\u001b[0m         \u001b[0mstyle_layers\u001b[0m \u001b[0;34m=\u001b[0m \u001b[0mget_style_feature_layers\u001b[0m\u001b[0;34m(\u001b[0m\u001b[0mvgg19\u001b[0m\u001b[0;34m)\u001b[0m\u001b[0;34m\u001b[0m\u001b[0m\n\u001b[0;32m---> 21\u001b[0;31m         \u001b[0mstyle_features\u001b[0m \u001b[0;34m=\u001b[0m \u001b[0;34m[\u001b[0m\u001b[0mlayer\u001b[0m\u001b[0;34m(\u001b[0m\u001b[0mwhite_noise\u001b[0m\u001b[0;34m)\u001b[0m\u001b[0;34m.\u001b[0m\u001b[0mdetach\u001b[0m\u001b[0;34m(\u001b[0m\u001b[0;34m)\u001b[0m \u001b[0;32mfor\u001b[0m \u001b[0mlayer\u001b[0m \u001b[0;32min\u001b[0m \u001b[0mstyle_layers\u001b[0m\u001b[0;34m]\u001b[0m\u001b[0;34m\u001b[0m\u001b[0m\n\u001b[0m\u001b[1;32m     22\u001b[0m \u001b[0;34m\u001b[0m\u001b[0m\n\u001b[1;32m     23\u001b[0m         \u001b[0;31m#get style loss\u001b[0m\u001b[0;34m\u001b[0m\u001b[0;34m\u001b[0m\u001b[0m\n",
      "\u001b[0;32m/Library/Frameworks/Python.framework/Versions/3.7/lib/python3.7/site-packages/torch/nn/modules/module.py\u001b[0m in \u001b[0;36m_call_impl\u001b[0;34m(self, *input, **kwargs)\u001b[0m\n\u001b[1;32m    720\u001b[0m             \u001b[0mresult\u001b[0m \u001b[0;34m=\u001b[0m \u001b[0mself\u001b[0m\u001b[0;34m.\u001b[0m\u001b[0m_slow_forward\u001b[0m\u001b[0;34m(\u001b[0m\u001b[0;34m*\u001b[0m\u001b[0minput\u001b[0m\u001b[0;34m,\u001b[0m \u001b[0;34m**\u001b[0m\u001b[0mkwargs\u001b[0m\u001b[0;34m)\u001b[0m\u001b[0;34m\u001b[0m\u001b[0m\n\u001b[1;32m    721\u001b[0m         \u001b[0;32melse\u001b[0m\u001b[0;34m:\u001b[0m\u001b[0;34m\u001b[0m\u001b[0m\n\u001b[0;32m--> 722\u001b[0;31m             \u001b[0mresult\u001b[0m \u001b[0;34m=\u001b[0m \u001b[0mself\u001b[0m\u001b[0;34m.\u001b[0m\u001b[0mforward\u001b[0m\u001b[0;34m(\u001b[0m\u001b[0;34m*\u001b[0m\u001b[0minput\u001b[0m\u001b[0;34m,\u001b[0m \u001b[0;34m**\u001b[0m\u001b[0mkwargs\u001b[0m\u001b[0;34m)\u001b[0m\u001b[0;34m\u001b[0m\u001b[0m\n\u001b[0m\u001b[1;32m    723\u001b[0m         for hook in itertools.chain(\n\u001b[1;32m    724\u001b[0m                 \u001b[0m_global_forward_hooks\u001b[0m\u001b[0;34m.\u001b[0m\u001b[0mvalues\u001b[0m\u001b[0;34m(\u001b[0m\u001b[0;34m)\u001b[0m\u001b[0;34m,\u001b[0m\u001b[0;34m\u001b[0m\u001b[0m\n",
      "\u001b[0;32m/Library/Frameworks/Python.framework/Versions/3.7/lib/python3.7/site-packages/torch/nn/modules/container.py\u001b[0m in \u001b[0;36mforward\u001b[0;34m(self, input)\u001b[0m\n\u001b[1;32m    115\u001b[0m     \u001b[0;32mdef\u001b[0m \u001b[0mforward\u001b[0m\u001b[0;34m(\u001b[0m\u001b[0mself\u001b[0m\u001b[0;34m,\u001b[0m \u001b[0minput\u001b[0m\u001b[0;34m)\u001b[0m\u001b[0;34m:\u001b[0m\u001b[0;34m\u001b[0m\u001b[0m\n\u001b[1;32m    116\u001b[0m         \u001b[0;32mfor\u001b[0m \u001b[0mmodule\u001b[0m \u001b[0;32min\u001b[0m \u001b[0mself\u001b[0m\u001b[0;34m:\u001b[0m\u001b[0;34m\u001b[0m\u001b[0m\n\u001b[0;32m--> 117\u001b[0;31m             \u001b[0minput\u001b[0m \u001b[0;34m=\u001b[0m \u001b[0mmodule\u001b[0m\u001b[0;34m(\u001b[0m\u001b[0minput\u001b[0m\u001b[0;34m)\u001b[0m\u001b[0;34m\u001b[0m\u001b[0m\n\u001b[0m\u001b[1;32m    118\u001b[0m         \u001b[0;32mreturn\u001b[0m \u001b[0minput\u001b[0m\u001b[0;34m\u001b[0m\u001b[0m\n\u001b[1;32m    119\u001b[0m \u001b[0;34m\u001b[0m\u001b[0m\n",
      "\u001b[0;32m/Library/Frameworks/Python.framework/Versions/3.7/lib/python3.7/site-packages/torch/nn/modules/module.py\u001b[0m in \u001b[0;36m_call_impl\u001b[0;34m(self, *input, **kwargs)\u001b[0m\n\u001b[1;32m    720\u001b[0m             \u001b[0mresult\u001b[0m \u001b[0;34m=\u001b[0m \u001b[0mself\u001b[0m\u001b[0;34m.\u001b[0m\u001b[0m_slow_forward\u001b[0m\u001b[0;34m(\u001b[0m\u001b[0;34m*\u001b[0m\u001b[0minput\u001b[0m\u001b[0;34m,\u001b[0m \u001b[0;34m**\u001b[0m\u001b[0mkwargs\u001b[0m\u001b[0;34m)\u001b[0m\u001b[0;34m\u001b[0m\u001b[0m\n\u001b[1;32m    721\u001b[0m         \u001b[0;32melse\u001b[0m\u001b[0;34m:\u001b[0m\u001b[0;34m\u001b[0m\u001b[0m\n\u001b[0;32m--> 722\u001b[0;31m             \u001b[0mresult\u001b[0m \u001b[0;34m=\u001b[0m \u001b[0mself\u001b[0m\u001b[0;34m.\u001b[0m\u001b[0mforward\u001b[0m\u001b[0;34m(\u001b[0m\u001b[0;34m*\u001b[0m\u001b[0minput\u001b[0m\u001b[0;34m,\u001b[0m \u001b[0;34m**\u001b[0m\u001b[0mkwargs\u001b[0m\u001b[0;34m)\u001b[0m\u001b[0;34m\u001b[0m\u001b[0m\n\u001b[0m\u001b[1;32m    723\u001b[0m         for hook in itertools.chain(\n\u001b[1;32m    724\u001b[0m                 \u001b[0m_global_forward_hooks\u001b[0m\u001b[0;34m.\u001b[0m\u001b[0mvalues\u001b[0m\u001b[0;34m(\u001b[0m\u001b[0;34m)\u001b[0m\u001b[0;34m,\u001b[0m\u001b[0;34m\u001b[0m\u001b[0m\n",
      "\u001b[0;32m/Library/Frameworks/Python.framework/Versions/3.7/lib/python3.7/site-packages/torch/nn/modules/conv.py\u001b[0m in \u001b[0;36mforward\u001b[0;34m(self, input)\u001b[0m\n\u001b[1;32m    417\u001b[0m \u001b[0;34m\u001b[0m\u001b[0m\n\u001b[1;32m    418\u001b[0m     \u001b[0;32mdef\u001b[0m \u001b[0mforward\u001b[0m\u001b[0;34m(\u001b[0m\u001b[0mself\u001b[0m\u001b[0;34m,\u001b[0m \u001b[0minput\u001b[0m\u001b[0;34m:\u001b[0m \u001b[0mTensor\u001b[0m\u001b[0;34m)\u001b[0m \u001b[0;34m->\u001b[0m \u001b[0mTensor\u001b[0m\u001b[0;34m:\u001b[0m\u001b[0;34m\u001b[0m\u001b[0m\n\u001b[0;32m--> 419\u001b[0;31m         \u001b[0;32mreturn\u001b[0m \u001b[0mself\u001b[0m\u001b[0;34m.\u001b[0m\u001b[0m_conv_forward\u001b[0m\u001b[0;34m(\u001b[0m\u001b[0minput\u001b[0m\u001b[0;34m,\u001b[0m \u001b[0mself\u001b[0m\u001b[0;34m.\u001b[0m\u001b[0mweight\u001b[0m\u001b[0;34m)\u001b[0m\u001b[0;34m\u001b[0m\u001b[0m\n\u001b[0m\u001b[1;32m    420\u001b[0m \u001b[0;34m\u001b[0m\u001b[0m\n\u001b[1;32m    421\u001b[0m \u001b[0;32mclass\u001b[0m \u001b[0mConv3d\u001b[0m\u001b[0;34m(\u001b[0m\u001b[0m_ConvNd\u001b[0m\u001b[0;34m)\u001b[0m\u001b[0;34m:\u001b[0m\u001b[0;34m\u001b[0m\u001b[0m\n",
      "\u001b[0;32m/Library/Frameworks/Python.framework/Versions/3.7/lib/python3.7/site-packages/torch/nn/modules/conv.py\u001b[0m in \u001b[0;36m_conv_forward\u001b[0;34m(self, input, weight)\u001b[0m\n\u001b[1;32m    414\u001b[0m                             _pair(0), self.dilation, self.groups)\n\u001b[1;32m    415\u001b[0m         return F.conv2d(input, weight, self.bias, self.stride,\n\u001b[0;32m--> 416\u001b[0;31m                         self.padding, self.dilation, self.groups)\n\u001b[0m\u001b[1;32m    417\u001b[0m \u001b[0;34m\u001b[0m\u001b[0m\n\u001b[1;32m    418\u001b[0m     \u001b[0;32mdef\u001b[0m \u001b[0mforward\u001b[0m\u001b[0;34m(\u001b[0m\u001b[0mself\u001b[0m\u001b[0;34m,\u001b[0m \u001b[0minput\u001b[0m\u001b[0;34m:\u001b[0m \u001b[0mTensor\u001b[0m\u001b[0;34m)\u001b[0m \u001b[0;34m->\u001b[0m \u001b[0mTensor\u001b[0m\u001b[0;34m:\u001b[0m\u001b[0;34m\u001b[0m\u001b[0m\n",
      "\u001b[0;31mKeyboardInterrupt\u001b[0m: "
     ]
    }
   ],
   "source": [
    "#style transfer loop\n",
    "for num in range(num_iter):\n",
    "    \n",
    "    #required for lbfgs\n",
    "    def closure():\n",
    "        \n",
    "        optimizer.zero_grad()\n",
    "\n",
    "        #get current content layer and apply to noise image\n",
    "        content_layer = get_content_feature_layer(vgg19)\n",
    "        content_feature = content_layer(white_noise).detach()\n",
    "\n",
    "        #get content loss\n",
    "        \n",
    "        cl = contentLoss(content_feature)\n",
    "        #print(cl)\n",
    "        \n",
    "\n",
    "        #get current style layers and apply them\n",
    "        style_layers = get_style_feature_layers(vgg19)\n",
    "        style_features = [layer(white_noise).detach() for layer in style_layers]\n",
    "\n",
    "        #get style loss\n",
    "        sl = styleLoss(style_features)\n",
    "       # print(sl)\n",
    "\n",
    "        #get total loss\n",
    "        loss_value = cl + sl\n",
    "        loss = Variable(loss_value, requires_grad = True)\n",
    "\n",
    "        #back propagate loss\n",
    "        loss.backward()\n",
    "        print(loss)\n",
    "        \n",
    "        if num % 1 == 0:\n",
    "            print(\"Iteration: {}, Content Loss: {:.3f}, Style Loss: {:.3f}\".format(num, cl, sl, loss))\n",
    "\n",
    "    \n",
    "        return loss\n",
    "    \n",
    "    optimizer.step(closure)\n",
    "    \n",
    "    # save intermediate  image\n",
    "    if num % 50 == 0:\n",
    "        save_image(white_noise.cpu().detach(), fp='./generated/iter_{}.png'.format(num))\n"
   ]
  },
  {
   "cell_type": "code",
   "execution_count": 79,
   "metadata": {},
   "outputs": [],
   "source": [
    "optimizer = optim.Adam(params=[white_noise], lr=0.01, betas=(0.9, 0.999))"
   ]
  },
  {
   "cell_type": "code",
   "execution_count": 139,
   "metadata": {},
   "outputs": [
    {
     "ename": "RuntimeError",
     "evalue": "element 0 of tensors does not require grad and does not have a grad_fn",
     "output_type": "error",
     "traceback": [
      "\u001b[0;31m---------------------------------------------------------------------------\u001b[0m",
      "\u001b[0;31mRuntimeError\u001b[0m                              Traceback (most recent call last)",
      "\u001b[0;32m<ipython-input-139-7d1d19590c48>\u001b[0m in \u001b[0;36m<module>\u001b[0;34m\u001b[0m\n\u001b[1;32m     27\u001b[0m \u001b[0;34m\u001b[0m\u001b[0m\n\u001b[1;32m     28\u001b[0m     \u001b[0;31m#back propagate loss\u001b[0m\u001b[0;34m\u001b[0m\u001b[0;34m\u001b[0m\u001b[0m\n\u001b[0;32m---> 29\u001b[0;31m     \u001b[0mloss_value\u001b[0m\u001b[0;34m.\u001b[0m\u001b[0mbackward\u001b[0m\u001b[0;34m(\u001b[0m\u001b[0;34m)\u001b[0m\u001b[0;34m\u001b[0m\u001b[0m\n\u001b[0m\u001b[1;32m     30\u001b[0m     \u001b[0mprint\u001b[0m\u001b[0;34m(\u001b[0m\u001b[0mloss_value\u001b[0m\u001b[0;34m)\u001b[0m\u001b[0;34m\u001b[0m\u001b[0m\n\u001b[1;32m     31\u001b[0m \u001b[0;34m\u001b[0m\u001b[0m\n",
      "\u001b[0;32m/Library/Frameworks/Python.framework/Versions/3.7/lib/python3.7/site-packages/torch/tensor.py\u001b[0m in \u001b[0;36mbackward\u001b[0;34m(self, gradient, retain_graph, create_graph)\u001b[0m\n\u001b[1;32m    183\u001b[0m                 \u001b[0mproducts\u001b[0m\u001b[0;34m.\u001b[0m \u001b[0mDefaults\u001b[0m \u001b[0mto\u001b[0m\u001b[0;31m \u001b[0m\u001b[0;31m`\u001b[0m\u001b[0;31m`\u001b[0m\u001b[0;32mFalse\u001b[0m\u001b[0;31m`\u001b[0m\u001b[0;31m`\u001b[0m\u001b[0;34m.\u001b[0m\u001b[0;34m\u001b[0m\u001b[0m\n\u001b[1;32m    184\u001b[0m         \"\"\"\n\u001b[0;32m--> 185\u001b[0;31m         \u001b[0mtorch\u001b[0m\u001b[0;34m.\u001b[0m\u001b[0mautograd\u001b[0m\u001b[0;34m.\u001b[0m\u001b[0mbackward\u001b[0m\u001b[0;34m(\u001b[0m\u001b[0mself\u001b[0m\u001b[0;34m,\u001b[0m \u001b[0mgradient\u001b[0m\u001b[0;34m,\u001b[0m \u001b[0mretain_graph\u001b[0m\u001b[0;34m,\u001b[0m \u001b[0mcreate_graph\u001b[0m\u001b[0;34m)\u001b[0m\u001b[0;34m\u001b[0m\u001b[0m\n\u001b[0m\u001b[1;32m    186\u001b[0m \u001b[0;34m\u001b[0m\u001b[0m\n\u001b[1;32m    187\u001b[0m     \u001b[0;32mdef\u001b[0m \u001b[0mregister_hook\u001b[0m\u001b[0;34m(\u001b[0m\u001b[0mself\u001b[0m\u001b[0;34m,\u001b[0m \u001b[0mhook\u001b[0m\u001b[0;34m)\u001b[0m\u001b[0;34m:\u001b[0m\u001b[0;34m\u001b[0m\u001b[0m\n",
      "\u001b[0;32m/Library/Frameworks/Python.framework/Versions/3.7/lib/python3.7/site-packages/torch/autograd/__init__.py\u001b[0m in \u001b[0;36mbackward\u001b[0;34m(tensors, grad_tensors, retain_graph, create_graph, grad_variables)\u001b[0m\n\u001b[1;32m    125\u001b[0m     Variable._execution_engine.run_backward(\n\u001b[1;32m    126\u001b[0m         \u001b[0mtensors\u001b[0m\u001b[0;34m,\u001b[0m \u001b[0mgrad_tensors\u001b[0m\u001b[0;34m,\u001b[0m \u001b[0mretain_graph\u001b[0m\u001b[0;34m,\u001b[0m \u001b[0mcreate_graph\u001b[0m\u001b[0;34m,\u001b[0m\u001b[0;34m\u001b[0m\u001b[0m\n\u001b[0;32m--> 127\u001b[0;31m         allow_unreachable=True)  # allow_unreachable flag\n\u001b[0m\u001b[1;32m    128\u001b[0m \u001b[0;34m\u001b[0m\u001b[0m\n\u001b[1;32m    129\u001b[0m \u001b[0;34m\u001b[0m\u001b[0m\n",
      "\u001b[0;31mRuntimeError\u001b[0m: element 0 of tensors does not require grad and does not have a grad_fn"
     ]
    }
   ],
   "source": [
    "#style transfer loop\n",
    "for num in range(num_iter):\n",
    "        \n",
    "    optimizer.zero_grad()\n",
    "\n",
    "    #get current content layer and apply to noise image\n",
    "    content_layer = get_content_feature_layer(vgg19)\n",
    "    content_feature = content_layer(white_noise).detach()\n",
    "\n",
    "    #get content loss\n",
    "        \n",
    "    cl = contentLoss(content_feature)\n",
    "    #print(cl)\n",
    "        \n",
    "\n",
    "    #get current style layers and apply them\n",
    "    style_layers = get_style_feature_layers(vgg19)\n",
    "    style_features = [layer(white_noise).detach() for layer in style_layers]\n",
    "\n",
    "    #get style loss\n",
    "    sl = styleLoss(style_features)\n",
    "    # print(sl)\n",
    "\n",
    "    #get total loss\n",
    "    loss_value = content_weight * cl + style_weight * sl\n",
    "    #loss = Variable(loss_value, requires_grad = True)\n",
    "\n",
    "    #back propagate loss\n",
    "    loss_value.backward()\n",
    "    print(loss_value)\n",
    "        \n",
    "    if num % 1 == 0:\n",
    "        print(\"Iteration: {}, Content Loss: {:.3f}, Style Loss: {:.3f}\".format(num, cl, sl, loss))\n",
    "\n",
    "    \n",
    "    \n",
    "    optimizer.step()\n",
    "    \n",
    "    # save intermediate  image\n",
    "    if num % 50 == 0:\n",
    "        save_image(white_noise.cpu().detach(), fp='./generated/iter_{}.png'.format(num))\n",
    "\n"
   ]
  },
  {
   "cell_type": "code",
   "execution_count": null,
   "metadata": {},
   "outputs": [],
   "source": []
  },
  {
   "cell_type": "code",
   "execution_count": null,
   "metadata": {},
   "outputs": [],
   "source": []
  },
  {
   "cell_type": "code",
   "execution_count": null,
   "metadata": {},
   "outputs": [],
   "source": []
  },
  {
   "cell_type": "code",
   "execution_count": 70,
   "metadata": {},
   "outputs": [],
   "source": [
    "#show photos\n",
    "unload = transforms.ToPILImage()"
   ]
  },
  {
   "cell_type": "code",
   "execution_count": 71,
   "metadata": {},
   "outputs": [],
   "source": [
    "ima = unload(content_image.squeeze())"
   ]
  },
  {
   "cell_type": "code",
   "execution_count": 72,
   "metadata": {},
   "outputs": [
    {
     "data": {
      "text/plain": [
       "<matplotlib.image.AxesImage at 0x7fbd675225c0>"
      ]
     },
     "execution_count": 72,
     "metadata": {},
     "output_type": "execute_result"
    },
    {
     "data": {
      "image/png": "[encoded data removed]",
      "text/plain": [
       "<Figure size 432x288 with 1 Axes>"
      ]
     },
     "metadata": {
      "needs_background": "light"
     },
     "output_type": "display_data"
    }
   ],
   "source": [
    "plt.imshow(ima)"
   ]
  },
  {
   "cell_type": "code",
   "execution_count": 74,
   "metadata": {},
   "outputs": [
    {
     "data": {
      "text/plain": [
       "tensor([[[[ 1.2557,  1.3070,  1.3413,  ..., -0.0116, -0.0287, -0.0458],\n",
       "          [ 1.1872,  1.2043,  1.2385,  ..., -0.0801, -0.0801, -0.1143],\n",
       "          [ 1.1358,  1.1872,  1.2043,  ..., -0.0972, -0.1143, -0.1314],\n",
       "          ...,\n",
       "          [-1.1589, -1.9467, -1.9980,  ..., -0.9877, -0.9877, -0.8678],\n",
       "          [-2.0152, -2.0837, -2.0837,  ..., -1.0048, -0.9877, -0.9192],\n",
       "          [-1.9295, -2.1008, -2.1179,  ..., -1.0219, -1.0048, -1.0048]],\n",
       "\n",
       "         [[ 1.4482,  1.5007,  1.5357,  ...,  0.1877,  0.1702,  0.1527],\n",
       "          [ 1.3957,  1.4307,  1.4657,  ...,  0.1527,  0.1527,  0.1176],\n",
       "          [ 1.3606,  1.4132,  1.4307,  ...,  0.1527,  0.1352,  0.1176],\n",
       "          ...,\n",
       "          [-0.8102, -1.6155, -1.6681,  ..., -0.8452, -0.8627, -0.7577],\n",
       "          [-1.8606, -1.9657, -1.9307,  ..., -0.8277, -0.8277, -0.7927],\n",
       "          [-1.7381, -2.0182, -2.0182,  ..., -0.8277, -0.8277, -0.8627]],\n",
       "\n",
       "         [[ 1.6988,  1.7511,  1.8034,  ...,  0.6008,  0.5834,  0.5659],\n",
       "          [ 1.6640,  1.6988,  1.7337,  ...,  0.5659,  0.5485,  0.5311],\n",
       "          [ 1.6465,  1.6988,  1.7163,  ...,  0.5485,  0.5311,  0.5136],\n",
       "          ...,\n",
       "          [-1.1770, -1.7173, -1.7347,  ..., -1.7173, -1.7173, -1.6127],\n",
       "          [-1.7173, -1.6824, -1.7347,  ..., -1.7173, -1.6999, -1.6476],\n",
       "          [-1.5256, -1.5953, -1.7347,  ..., -1.7173, -1.6999, -1.7173]]]])"
      ]
     },
     "execution_count": 74,
     "metadata": {},
     "output_type": "execute_result"
    }
   ],
   "source": [
    "content_image"
   ]
  },
  {
   "cell_type": "code",
   "execution_count": null,
   "metadata": {},
   "outputs": [],
   "source": []
  }
 ],
 "metadata": {
  "kernelspec": {
   "display_name": "Python 3",
   "language": "python",
   "name": "python3"
  },
  "language_info": {
   "codemirror_mode": {
    "name": "ipython",
    "version": 3
   },
   "file_extension": ".py",
   "mimetype": "text/x-python",
   "name": "python",
   "nbconvert_exporter": "python",
   "pygments_lexer": "ipython3",
   "version": "3.7.0"
  }
 },
 "nbformat": 4,
 "nbformat_minor": 2
}
